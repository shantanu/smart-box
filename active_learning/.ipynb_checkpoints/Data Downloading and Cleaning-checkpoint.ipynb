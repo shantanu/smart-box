{
 "cells": [
  {
   "cell_type": "code",
   "execution_count": null,
   "metadata": {},
   "outputs": [],
   "source": [
    "import pandas as pd\n",
    "import numpy as np\n",
    "import requests"
   ]
  },
  {
   "cell_type": "code",
   "execution_count": null,
   "metadata": {},
   "outputs": [],
   "source": [
    "url = \"http://localhost:5000/get_data\"\n",
    "r = requests.get(url, params={'box_name': 'Box0', 'start_time': '2020-05-30 00:00:00', 'end_time': '2020-05-31 00:00:00'})\n",
    "r.json()"
   ]
  },
  {
   "cell_type": "code",
   "execution_count": null,
   "metadata": {
    "scrolled": true
   },
   "outputs": [],
   "source": [
    "df = pd.DataFrame(r.json(), columns=['box_name', 'channel_name', 'time', 'value', 'label'])\n",
    "df.sort_values(by='time', inplace=True)\n",
    "df.reset_index(inplace=True)\n",
    "df.drop('index', axis=1, inplace=True)\n",
    "df.head()"
   ]
  },
  {
   "cell_type": "code",
   "execution_count": null,
   "metadata": {},
   "outputs": [],
   "source": [
    "df.to_csv(\"2020-05-29.csv\")"
   ]
  },
  {
   "cell_type": "code",
   "execution_count": null,
   "metadata": {},
   "outputs": [],
   "source": [
    "len(df)"
   ]
  },
  {
   "cell_type": "code",
   "execution_count": null,
   "metadata": {},
   "outputs": [],
   "source": [
    "url2 = \"http://localhost:5000/get_pictures\"\n",
    "rp = requests.get(url2, params={'box_name': 'Box0', \n",
    "                                'start_time': '2020-03-23 18:00:00', \n",
    "                                'end_time': '2020-03-23 20:00:00'})"
   ]
  },
  {
   "cell_type": "code",
   "execution_count": null,
   "metadata": {},
   "outputs": [],
   "source": [
    "jp = rp.json()\n",
    "len(jp)"
   ]
  },
  {
   "cell_type": "code",
   "execution_count": null,
   "metadata": {},
   "outputs": [],
   "source": [
    "jp.sort(key=lambda x:x[1])"
   ]
  },
  {
   "cell_type": "code",
   "execution_count": null,
   "metadata": {},
   "outputs": [],
   "source": [
    "from PIL import Image\n",
    "import io\n",
    "import base64\n",
    "import matplotlib.pyplot as plt\n",
    "import time\n",
    "\n",
    "\n",
    "frames = []\n",
    "for i in range(len(jp)):\n",
    "    data = jp[i][2]\n",
    "    data = base64.b64decode(data)\n",
    "    frames.append(Image.fromarray(np.frombuffer(data, dtype=np.uint8).reshape((480, 640, 3))))\n",
    "\n",
    "\n",
    "    \n",
    "black_frame = Image.fromarray(np.zeros((480, 640, 3), dtype=np.uint8))\n",
    "outputGIF = io.BytesIO()\n",
    "full_gif = [black_frame] * 5 + frames\n",
    "\n",
    "gif_name = \"./assets/{}.gif\".format(time.time())\n",
    "with open(gif_name, \"w+b\") as g:\n",
    "    black_frame.save(g, format='GIF', append_images=full_gif, save_all=True, duration=200, loop=0)\n"
   ]
  },
  {
   "cell_type": "code",
   "execution_count": null,
   "metadata": {},
   "outputs": [],
   "source": [
    "print(type(data))\n",
    "nparr = np.fromstring(data, np.uint8)\n",
    "nparr.reshape((480,640,3))\n"
   ]
  },
  {
   "cell_type": "code",
   "execution_count": null,
   "metadata": {},
   "outputs": [],
   "source": [
    "import changefinder\n",
    "import matplotlib.pyplot as plt\n",
    "import numpy as np"
   ]
  },
  {
   "cell_type": "code",
   "execution_count": null,
   "metadata": {},
   "outputs": [],
   "source": [
    "data = np.concatenate ([np.random.normal (0.7, 0.05, 300),\n",
    "np.random.normal (1.5, 0.05, 300),\n",
    "np.random.normal (0.6, 0.05, 300),\n",
    "np.random.normal (1.3, 0.05, 300)])"
   ]
  },
  {
   "cell_type": "code",
   "execution_count": null,
   "metadata": {},
   "outputs": [],
   "source": [
    "cf = changefinder.ChangeFinder (r = 0.01, order = 1, smooth = 7)"
   ]
  },
  {
   "cell_type": "code",
   "execution_count": null,
   "metadata": {},
   "outputs": [],
   "source": [
    "ret = []\n",
    "for i in data:\n",
    "    score = cf.update(i)\n",
    "    ret.append(score)"
   ]
  },
  {
   "cell_type": "code",
   "execution_count": null,
   "metadata": {},
   "outputs": [],
   "source": [
    "fig = plt.figure ()\n",
    "ax = fig.add_subplot (111)\n",
    "ax.plot (ret)\n",
    "ax2 = ax.twinx ()\n",
    "ax2.plot (data, 'r')\n",
    "plt.show ()"
   ]
  },
  {
   "cell_type": "code",
   "execution_count": null,
   "metadata": {},
   "outputs": [],
   "source": [
    "# get top 3 points, create segments \n",
    "# https://medium.com/@yurybelousov/the-beauty-of-python-or-how-to-get-indices-of-n-maximum-values-in-the-array-d362385794ef\n",
    "\n",
    "\n",
    "max_indices = np.argpartition(ret, -4)[-4:]\n",
    "max_indices"
   ]
  },
  {
   "cell_type": "code",
   "execution_count": null,
   "metadata": {},
   "outputs": [],
   "source": [
    "from scipy.signal import find_peaks\n",
    "\n",
    "indices = find_peaks(ret, threshold=1)[0]\n",
    "indices\n",
    "\n",
    "segments = []\n",
    "for i in range(len(indices)):\n",
    "    if i == 0:\n",
    "        segments.append((0, indices[i]))\n",
    "    else:\n",
    "        segments.append((indices[i-1], indices[i]))\n",
    "        \n",
    "segments"
   ]
  },
  {
   "cell_type": "code",
   "execution_count": null,
   "metadata": {},
   "outputs": [],
   "source": [
    "from modAL.models import ActiveLearner\n",
    "from sklearn.ensemble import RandomForestClassifier\n",
    "\n",
    "# initializing the learner\n",
    "learner = ActiveLearner(\n",
    "    estimator=RandomForestClassifier(),\n",
    ")\n",
    "\n",
    "# query for labels\n",
    "query_idx, query_inst = learner.query(X_pool)\n",
    "\n",
    "# ...obtaining new labels from the Oracle...\n",
    "\n",
    "# supply label for queried instance\n",
    "learner.teach(X_pool[query_idx], y_new)"
   ]
  },
  {
   "cell_type": "code",
   "execution_count": null,
   "metadata": {},
   "outputs": [],
   "source": [
    "import pandas as pd\n",
    "import numpy as np\n",
    "\n",
    "# need to read in csv file\n",
    "# output format: list of numpy arrays:\n",
    "# each row in the array is a time stamp, 18 sensors wide.\n",
    "# sensors are in this order\n",
    "channel_names =  [ \"PIR\",\"Audio\",\"Color Temp (K)\",\n",
    "    \"Lumosity\",\"R\",\"G\",\"B\",\"C\",\"Temperature\",\"Pressure\",\n",
    "    \"Approx. Altitude\",\"Humidity\",\"Accel X\",\"Accel Y\",\"Accel Z\",\n",
    "    \"Magnet X\",\"Magnet Y\",\"Magnet Z\"]\n",
    "\n",
    "\n",
    "df = pd.read_csv('2020-03-23p2.csv')\n"
   ]
  },
  {
   "cell_type": "code",
   "execution_count": null,
   "metadata": {},
   "outputs": [],
   "source": [
    "df.head()"
   ]
  },
  {
   "cell_type": "code",
   "execution_count": null,
   "metadata": {},
   "outputs": [],
   "source": [
    "times = df['time'].unique()\n",
    "times.sort()\n",
    "len(times)"
   ]
  },
  {
   "cell_type": "code",
   "execution_count": null,
   "metadata": {},
   "outputs": [],
   "source": [
    "import pandas as pd\n",
    "import numpy as np\n",
    "\n",
    "# need to read in csv file\n",
    "# output format: list of numpy arrays:\n",
    "# each row in the array is a time stamp, 18 sensors wide.\n",
    "# sensors are in this order\n",
    "channel_names =  [ \"PIR\",\"Audio\",\"Color Temp (K)\",\n",
    "    \"Lumosity\",\"R\",\"G\",\"B\",\"C\",\"Temperature\",\"Pressure\",\n",
    "    \"Approx. Altitude\",\"Humidity\",\"Accel X\",\"Accel Y\",\"Accel Z\",\n",
    "    \"Magnet X\",\"Magnet Y\",\"Magnet Z\"]\n",
    "\n",
    "\n",
    "df = pd.read_csv('2020-03-23p2.csv')\n",
    "\n",
    "times = df['time'].unique()\n",
    "times.sort()\n",
    "\n",
    "slider = []\n",
    "for i in range(4541, len(times)-19):\n",
    "    # window\n",
    "    window = np.empty((20, 18))\n",
    "    for j in range(20):\n",
    "        # sensors\n",
    "        for k in range(18):\n",
    "            print(i, j, k)\n",
    "            window[j, k] = df[(df['time']==times[j+i]) & \n",
    "                              (df['channel_name']==channel_names[k])]['value']\n",
    "    slider.append(window)\n",
    "    \n",
    "print(slider)"
   ]
  },
  {
   "cell_type": "code",
   "execution_count": null,
   "metadata": {},
   "outputs": [],
   "source": [
    "print(slider[0][1])\n",
    "print(slider[1][0])"
   ]
  },
  {
   "cell_type": "code",
   "execution_count": null,
   "metadata": {},
   "outputs": [],
   "source": [
    "df[df['channel_name'] == 'PIR']['value']"
   ]
  },
  {
   "cell_type": "code",
   "execution_count": null,
   "metadata": {},
   "outputs": [],
   "source": []
  }
 ],
 "metadata": {
  "kernelspec": {
   "display_name": "Python 3",
   "language": "python",
   "name": "python3"
  },
  "language_info": {
   "codemirror_mode": {
    "name": "ipython",
    "version": 3
   },
   "file_extension": ".py",
   "mimetype": "text/x-python",
   "name": "python",
   "nbconvert_exporter": "python",
   "pygments_lexer": "ipython3",
   "version": "3.6.8"
  }
 },
 "nbformat": 4,
 "nbformat_minor": 4
}
