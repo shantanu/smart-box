{
 "cells": [
  {
   "cell_type": "code",
   "execution_count": 8,
   "metadata": {},
   "outputs": [],
   "source": [
    "class active_learning(object):\n",
    "    def __init__(self, states_list, N, strategy, estimator, already_selected):\n",
    "        self.states_list = states_list\n",
    "        self.N = N\n",
    "        self.strategy = strategy\n",
    "        self.estimator = estimator\n",
    "        self.already_selected = already_selected\n",
    "\n",
    "    def get_samples(self):\n",
    "        states_list = self.states_list\n",
    "        distances = []\n",
    "        for state in states_list:\n",
    "            q = self.estimator.predict(state=[state])[0]\n",
    "            distance = abs(q[0] - q[1])\n",
    "            distances.append(distance)\n",
    "        distances = np.array(distances)\n",
    "        if len(distances.shape) < 2:\n",
    "            min_margin = abs(distances)\n",
    "        else:\n",
    "            sort_distances = np.sort(distances, 1)[:, -2:]\n",
    "            min_margin = sort_distances[:, 1] - sort_distances[:, 0]\n",
    "        rank_ind = np.argsort(min_margin)\n",
    "        rank_ind = [i for i in rank_ind if i not in self.already_selected]\n",
    "        active_samples = rank_ind[0:self.N]\n",
    "        return active_samples\n",
    "\n",
    "    def get_samples_by_score(self, threshold):\n",
    "        states_list = self.states_list\n",
    "        distances = []\n",
    "        for state in states_list:\n",
    "            q = self.estimator.predict(state=[state])[0]\n",
    "            distance = abs(q[0] - q[1])\n",
    "            distances.append(distance)\n",
    "        distances = np.array(distances)\n",
    "        if len(distances.shape) < 2:\n",
    "            min_margin = abs(distances)\n",
    "        else:\n",
    "            sort_distances = np.sort(distances, 1)[:, -2:]\n",
    "            min_margin = sort_distances[:, 1] - sort_distances[:, 0]\n",
    "        rank_ind = np.argsort(min_margin)\n",
    "        rank_ind = [i for i in rank_ind if i not in self.already_selected]\n",
    "        active_samples = [t for t in rank_ind if distances[t] < threshold]\n",
    "        return active_samples\n",
    "\n",
    "    def label(self, active_samples):\n",
    "        for sample in active_samples:\n",
    "            print('AL finds one of the most confused samples:')\n",
    "            print(self.env.timeseries['value'].iloc[sample:sample + n_steps])\n",
    "            print('Please label the last timestamp based on your knowledge')\n",
    "            print('0 for non-anomaly; 1 for anomaly')\n",
    "            label = input()\n",
    "            self.env.timeseries.loc[sample + n_steps - 1, 'anomaly'] = label\n",
    "        return\n"
   ]
  },
  {
   "cell_type": "code",
   "execution_count": 9,
   "metadata": {},
   "outputs": [],
   "source": [
    "data = list(range(100))\n",
    "sample_list = [data[i:i+20] for i in range(len(data)-20)]"
   ]
  },
  {
   "cell_type": "code",
   "execution_count": 10,
   "metadata": {},
   "outputs": [],
   "source": [
    "AL = active_learning(sample_list, 5, None, None, [])"
   ]
  },
  {
   "cell_type": "code",
   "execution_count": 11,
   "metadata": {},
   "outputs": [
    {
     "ename": "AttributeError",
     "evalue": "'NoneType' object has no attribute 'predict'",
     "output_type": "error",
     "traceback": [
      "\u001b[1;31m---------------------------------------------------------------------------\u001b[0m",
      "\u001b[1;31mAttributeError\u001b[0m                            Traceback (most recent call last)",
      "\u001b[1;32m<ipython-input-11-275a3bdfd036>\u001b[0m in \u001b[0;36m<module>\u001b[1;34m\u001b[0m\n\u001b[1;32m----> 1\u001b[1;33m \u001b[0mAL\u001b[0m\u001b[1;33m.\u001b[0m\u001b[0mget_samples\u001b[0m\u001b[1;33m(\u001b[0m\u001b[1;33m)\u001b[0m\u001b[1;33m\u001b[0m\u001b[1;33m\u001b[0m\u001b[0m\n\u001b[0m",
      "\u001b[1;32m<ipython-input-8-a4b183ca9e59>\u001b[0m in \u001b[0;36mget_samples\u001b[1;34m(self)\u001b[0m\n\u001b[0;32m     11\u001b[0m         \u001b[0mdistances\u001b[0m \u001b[1;33m=\u001b[0m \u001b[1;33m[\u001b[0m\u001b[1;33m]\u001b[0m\u001b[1;33m\u001b[0m\u001b[1;33m\u001b[0m\u001b[0m\n\u001b[0;32m     12\u001b[0m         \u001b[1;32mfor\u001b[0m \u001b[0mstate\u001b[0m \u001b[1;32min\u001b[0m \u001b[0mstates_list\u001b[0m\u001b[1;33m:\u001b[0m\u001b[1;33m\u001b[0m\u001b[1;33m\u001b[0m\u001b[0m\n\u001b[1;32m---> 13\u001b[1;33m             \u001b[0mq\u001b[0m \u001b[1;33m=\u001b[0m \u001b[0mself\u001b[0m\u001b[1;33m.\u001b[0m\u001b[0mestimator\u001b[0m\u001b[1;33m.\u001b[0m\u001b[0mpredict\u001b[0m\u001b[1;33m(\u001b[0m\u001b[0mstate\u001b[0m\u001b[1;33m=\u001b[0m\u001b[1;33m[\u001b[0m\u001b[0mstate\u001b[0m\u001b[1;33m]\u001b[0m\u001b[1;33m)\u001b[0m\u001b[1;33m[\u001b[0m\u001b[1;36m0\u001b[0m\u001b[1;33m]\u001b[0m\u001b[1;33m\u001b[0m\u001b[1;33m\u001b[0m\u001b[0m\n\u001b[0m\u001b[0;32m     14\u001b[0m             \u001b[0mdistance\u001b[0m \u001b[1;33m=\u001b[0m \u001b[0mabs\u001b[0m\u001b[1;33m(\u001b[0m\u001b[0mq\u001b[0m\u001b[1;33m[\u001b[0m\u001b[1;36m0\u001b[0m\u001b[1;33m]\u001b[0m \u001b[1;33m-\u001b[0m \u001b[0mq\u001b[0m\u001b[1;33m[\u001b[0m\u001b[1;36m1\u001b[0m\u001b[1;33m]\u001b[0m\u001b[1;33m)\u001b[0m\u001b[1;33m\u001b[0m\u001b[1;33m\u001b[0m\u001b[0m\n\u001b[0;32m     15\u001b[0m             \u001b[0mdistances\u001b[0m\u001b[1;33m.\u001b[0m\u001b[0mappend\u001b[0m\u001b[1;33m(\u001b[0m\u001b[0mdistance\u001b[0m\u001b[1;33m)\u001b[0m\u001b[1;33m\u001b[0m\u001b[1;33m\u001b[0m\u001b[0m\n",
      "\u001b[1;31mAttributeError\u001b[0m: 'NoneType' object has no attribute 'predict'"
     ]
    }
   ],
   "source": [
    "AL.get_samples()"
   ]
  },
  {
   "cell_type": "code",
   "execution_count": null,
   "metadata": {},
   "outputs": [],
   "source": []
  }
 ],
 "metadata": {
  "kernelspec": {
   "display_name": "Python 3",
   "language": "python",
   "name": "python3"
  },
  "language_info": {
   "codemirror_mode": {
    "name": "ipython",
    "version": 3
   },
   "file_extension": ".py",
   "mimetype": "text/x-python",
   "name": "python",
   "nbconvert_exporter": "python",
   "pygments_lexer": "ipython3",
   "version": "3.7.4"
  }
 },
 "nbformat": 4,
 "nbformat_minor": 4
}
